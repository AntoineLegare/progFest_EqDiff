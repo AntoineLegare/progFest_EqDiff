{
  "cells": [
    {
      "cell_type": "code",
      "execution_count": 1,
      "metadata": {
        "id": "MXT1NPtsxoxu"
      },
      "outputs": [],
      "source": [
        "import numpy as np\n",
        "import matplotlib.pyplot as plt\n",
        "from matplotlib import animation"
      ]
    },
    {
      "cell_type": "markdown",
      "metadata": {
        "id": "N3lV2jOExoxz"
      },
      "source": [
        "# Solutions numériques d'équations différentielles"
      ]
    },
    {
      "cell_type": "markdown",
      "metadata": {
        "id": "57ljn7KFxox1"
      },
      "source": [
        "### Méthode d'Euler"
      ]
    },
    {
      "cell_type": "markdown",
      "metadata": {
        "id": "z8tG1-_Nxox2"
      },
      "source": [
        "À l'aide de la méthode d'Euler, on peut approximer la dérivée d'une fonction comme\n",
        "\n",
        "$$f(t+\\Delta t)\\approx f(t) + \\Delta t f'(t) $$\n",
        "\n",
        "Nous utiliserons cette approximation pour résoudre différents systèmes au cours de l'atelier."
      ]
    },
    {
      "cell_type": "markdown",
      "metadata": {
        "id": "ZeJAiaz8xox2"
      },
      "source": [
        "### Système #1: Pendule simple"
      ]
    },
    {
      "cell_type": "markdown",
      "source": [
        "L'équation différentielle permettant de décrire l'évolution de l'angle $\\theta (t)$ d'un pendule au fil du temps est donnée par\n",
        "\n",
        "$$\\frac{d^2\\theta}{dt^2}=-\\frac{g}{l}\\sin(\\theta)$$\n",
        "\n",
        "Puisque la méthode d'Euler approxime seulement une dérivée du premier ordre, on doit faire un changement de variable \n",
        "\n",
        "$$\\Theta' \\equiv \\theta '',$$\n",
        "\n",
        "de telle sorte que\n",
        "\n",
        "$$\\Theta(t+\\Delta t) \\approx \\Theta(t) + \\Delta t \\cdot\\Theta'(t).$$"
      ],
      "metadata": {
        "id": "ELOO5JWry9Ia"
      }
    },
    {
      "cell_type": "markdown",
      "source": [
        "Une fois que l'on obtient $\\Theta$, qui correspond à $\\theta'$, on doit répéter Euler à nouveau afin d'obtenir\n",
        "\n",
        "$$\\theta (t+\\Delta t) \\approx \\theta(t) + \\Delta t \\cdot \\theta'(t)$$\n",
        "\n",
        "Vous devez maintenant coder une méthode qui effectue la résolution numérique de l'équation du pendule simple. Comme conditions initialez, posez $\\theta_0 = 1$ et $\\theta'_0 = 0$.\n",
        "\n"
      ],
      "metadata": {
        "id": "y3JXBq95y9Eb"
      }
    },
    {
      "cell_type": "code",
      "execution_count": 2,
      "metadata": {
        "id": "wNHZ6Jf2xox3"
      },
      "outputs": [],
      "source": [
        "def solvePendulum(duration, step, parameters, initial):\n",
        "    \n",
        "    \"\"\"\n",
        "    duration: durée totale (s)\n",
        "    step: delta_t (s)\n",
        "    params: liste contenant les trois paramètres (l, m, g)\n",
        "    init: liste contenant les deux conditions initiales (theta_0, theta'_0)\n",
        "    \"\"\"\n",
        "\n",
        "    N = int(duration / step)\n",
        "    t = np.linspace(0, duration, N + 1, endpoint=True)\n",
        "\n",
        "    l, m, g = parameters[0], parameters[1], parameters[2]\n",
        "    theta_0, dtheta_0 = [initial[0]], [initial[1]]\n",
        "    \n",
        "    # À remplir\n",
        "    # Indices: - Boucle de longueur N,\n",
        "    # - De nouvelles valeurs doivent être ajoutées aux listes\n",
        "    # à chaque itération\n",
        "        \n",
        "    return t, theta"
      ]
    },
    {
      "cell_type": "markdown",
      "source": [
        "Pour tester la fonction:"
      ],
      "metadata": {
        "id": "IxoGzCcS2Qx2"
      }
    },
    {
      "cell_type": "code",
      "source": [
        ""
      ],
      "metadata": {
        "id": "puEm8X6P2QTl"
      },
      "execution_count": null,
      "outputs": []
    },
    {
      "cell_type": "markdown",
      "source": [
        "Maintenant que vous avez obtenu des valeurs numériques de $\\theta (t)$, vous pouvez afficher graphiquement votre solution et comparer avec la solution analytique, celle qui effectue l'approximation $\\sin(\\theta)\\approx \\theta$. Les deux courbes devraient diverger à mesure que $\\theta_0$ augmente."
      ],
      "metadata": {
        "id": "4ehvuFPV1_CS"
      }
    },
    {
      "cell_type": "code",
      "execution_count": null,
      "metadata": {
        "id": "8xX4N7owxox4"
      },
      "outputs": [],
      "source": [
        "def analyticPendulum(t, theta_0, g, l):\n",
        "    return theta_0 * np.cos(np.sqrt(g / l) * t)"
      ]
    },
    {
      "cell_type": "code",
      "source": [
        ""
      ],
      "metadata": {
        "id": "ETZgOlL63rw0"
      },
      "execution_count": null,
      "outputs": []
    },
    {
      "cell_type": "markdown",
      "metadata": {
        "id": "Ykk8yAavxox8"
      },
      "source": [
        "### Système #2: Attracteur de Lorenz"
      ]
    },
    {
      "cell_type": "markdown",
      "metadata": {
        "id": "LpIPHJ60xox8"
      },
      "source": [
        "L'emblématique attracteur de Lorenz, qui se trouve derrière l'effet papillon et la théorie du chaos, est décrit par les trois équations différentielles suivantes\n",
        "\n",
        "$$\\frac{dx}{dt}=\\sigma(y - x)$$\n",
        "\n",
        "$$\\frac{dy}{dt}= x(\\rho - z) - y$$\n",
        "\n",
        "$$\\frac{dz}{dt}=xy - \\beta z$$"
      ]
    },
    {
      "cell_type": "markdown",
      "source": [
        "Ce système effectue une description simplifiée de phénomènes météorologiques. Sans trop s'attarder aux détails derrière les équations, débutez d'abord par solutionner numériquement les équations, qui sont dans ce cas-ci bel et bien du premier ordre. Euler peut donc être utilisé directement pour chacune des trois variables $x(t)$, $y(t)$ et $z(t)$. Il faut par contre solutionner chacune des trois au fur et à mesure, et non une à la fois, puisque \n",
        "\n",
        "- $x(t+\\Delta t)$ s'obtient de $x(t)$ et $y(t)$,\n",
        "- $y(t+\\Delta t)$ s'obtient de $x(t)$, $y(t)$, $z(t)$,\n",
        "- $z(t+\\Delta t)$ s'obtient de $x(t)$, $y(t)$, $z(t)$. "
      ],
      "metadata": {
        "id": "vrpZ30423UIa"
      }
    },
    {
      "cell_type": "code",
      "execution_count": 3,
      "metadata": {
        "id": "PNz0hi9Kxox9"
      },
      "outputs": [],
      "source": [
        "def solveLorenz(duration, step, initial):\n",
        "    \n",
        "    N = int(duration / step)\n",
        "    t = np.linspace(0, duration, N + 1, endpoint=True)\n",
        "\n",
        "    x_0, y_0, z_0 = [initial[0]], [initial[1]], [initial[2]]\n",
        "\n",
        "    sigma = 10\n",
        "    beta = 8/3\n",
        "    rho = 28\n",
        "    \n",
        "    x, y, z = [x_0], [y_0], [z_0]\n",
        "        \n",
        "    # À remplir\n",
        "    #\n",
        "    #\n",
        "    #\n",
        "    #\n",
        "\n",
        "    return x, y, z"
      ]
    },
    {
      "cell_type": "markdown",
      "source": [
        "Pour tester la fonction:"
      ],
      "metadata": {
        "id": "wECZgb5W4azl"
      }
    },
    {
      "cell_type": "code",
      "source": [
        ""
      ],
      "metadata": {
        "id": "JA4tba6c4f1V"
      },
      "execution_count": 3,
      "outputs": []
    },
    {
      "cell_type": "markdown",
      "source": [
        "Affichez maintenant un graphique de $y$ en fonction de $x$, un graphique de $z$ en fonction de $y$ et un graphique de $z$ en fonction de $x$. Ces trois graphiques vous permettent d'observer la trajectoire 3D sous différents angles. Vous devriez voir apparaître des trajectoires qui, ironiquement, ressemblent à un papillon."
      ],
      "metadata": {
        "id": "SP3Pxw1r4g0a"
      }
    },
    {
      "cell_type": "code",
      "execution_count": 4,
      "metadata": {
        "id": "vFdicQUmxox-"
      },
      "outputs": [],
      "source": [
        "initial = [0., 1., 1.05]\n",
        "duration = 100.\n",
        "step = 0.01\n",
        "\n",
        "x, y, z = solveLorenz(duration, step, initial)"
      ]
    },
    {
      "cell_type": "code",
      "execution_count": null,
      "metadata": {
        "id": "l6Rkq0ALxox-"
      },
      "outputs": [],
      "source": [
        "plt.figure(figsize=(10, 10))\n",
        "plt.plot(x, y, color=\"#6d72c3\", linewidth=2)\n",
        "plt.axis('off')"
      ]
    },
    {
      "cell_type": "code",
      "execution_count": null,
      "metadata": {
        "id": "iINABHPjxox_"
      },
      "outputs": [],
      "source": [
        "plt.figure(figsize=(10, 10))\n",
        "plt.plot(y, z, color=\"#6d72c3\", linewidth=2)\n",
        "plt.axis('off')"
      ]
    },
    {
      "cell_type": "code",
      "execution_count": null,
      "metadata": {
        "id": "4DivFY8sxox_"
      },
      "outputs": [],
      "source": [
        "plt.figure(figsize=(10, 10))\n",
        "plt.plot(x, z, color=\"#6d72c3\", linewidth=2)\n",
        "plt.axis('off')"
      ]
    },
    {
      "cell_type": "markdown",
      "source": [
        "Afin de pleinement constater la sensibilité aux conditions initiales, effectuez la résolution du système plusieurs fois, pour un ensemble de conditions initiales différentes. Sur un même graphique, représentez ensuite différentes trajectoires avec des couleurs différentes. Qu'observez vous? Les boucles `for` et les listes devraient vous être utiles."
      ],
      "metadata": {
        "id": "23hqU2Mf8ui4"
      }
    },
    {
      "cell_type": "code",
      "source": [
        ""
      ],
      "metadata": {
        "id": "0Y4Nz1wq9UzC"
      },
      "execution_count": null,
      "outputs": []
    },
    {
      "cell_type": "markdown",
      "metadata": {
        "id": "oG15HptKxox_"
      },
      "source": [
        "### Système #3: Double pendule"
      ]
    },
    {
      "cell_type": "markdown",
      "metadata": {
        "id": "-6eDaaFmxoyA"
      },
      "source": [
        "Le double pendule, dramatiquement plus complexe que son petit frère le pendule simple, est décrit par les équations ci-dessous pour $\\theta_1''$ et $\\theta_2''$, qui sont les dérivées secondes temporelles des angles du premier pendule avec le point d'attache, puis du second pendule avec la première masse, respectivement (voir la figure https://en.wikipedia.org/wiki/Double_pendulum)."
      ]
    },
    {
      "cell_type": "code",
      "execution_count": 5,
      "metadata": {
        "id": "2P6e0DcaxoyA"
      },
      "outputs": [],
      "source": [
        "def d2theta_1(theta_1, theta_2, dtheta_1, dtheta_2, parameters):\n",
        "    g, L_1, L_2, m_1, m_2 = parameters\n",
        "    term1 = -g * (2 * m_1 + m_2) * np.sin(theta_1)\n",
        "    term2 = -m_2 * g * np.sin(theta_1 - 2 * theta_2)\n",
        "    term3 = -2 * np.sin(theta_1 - theta_2) * m_2 * ((dtheta_2 ** 2) * L_2 + (dtheta_1 ** 2) * L_1 * np.cos(theta_1 - theta_2))\n",
        "    denominator = L_1 * (2 * m_1 + m_2 - m_2 * np.cos(2 * theta_1 - 2 * theta_2))\n",
        "    return (term1 + term2 + term3) / denominator"
      ]
    },
    {
      "cell_type": "code",
      "execution_count": 6,
      "metadata": {
        "id": "C4ObaG_ixoyA"
      },
      "outputs": [],
      "source": [
        "def d2theta_2(theta_1, theta_2, dtheta_1, dtheta_2, parameters):\n",
        "    g, L_1, L_2, m_1, m_2 = parameters\n",
        "    factor = 2 * np.sin(theta_1 - theta_2)\n",
        "    term1 = (dtheta_1 ** 2) * L_1 * (m_1 + m_2)\n",
        "    term2 = g * (m_1 + m_2) * np.cos(theta_1)\n",
        "    term3 = (dtheta_2 ** 2) * L_2 * m_2 * np.cos(theta_1 - theta_2)\n",
        "    denominator = L_2 * (2 * m_1 + m_2 - m_2 * np.cos(2 * theta_1 - 2 * theta_2))\n",
        "    return (factor * (term1 + term2 + term3)) / denominator"
      ]
    },
    {
      "cell_type": "markdown",
      "source": [
        "La liste `parameters` doit contenir, selon l'ordre suivant, les paramètres ci-dessous:"
      ],
      "metadata": {
        "id": "CmKP5vlo93mo"
      }
    },
    {
      "cell_type": "code",
      "source": [
        "g = 1 # accélération gravitationnelle (m/s^2)\n",
        "L_1 = 1 # longueur de la première corde (m)\n",
        "L_2 = 1 # longueur de la seconde corde (m)\n",
        "m_1 = 1 # masse du premier pendule (kg)\n",
        "m_2 = 2 # masse du second pendule (kg)\n",
        "parameterss = [g, L_1, L_2, m_1, m_2]"
      ],
      "metadata": {
        "id": "ic9gdqZs-KIV"
      },
      "execution_count": 7,
      "outputs": []
    },
    {
      "cell_type": "markdown",
      "source": [
        "Vous devez maintenant coder la fonction qui solutionne ce système. Le gros de la job a déjà été fait pour vous un peu plus haut. Comme dans le cas du pendule simple, puisqu'il s'agit d'une dérivée seconde, il faut effectuer Euler séquentiellement pour \"descendre\" de deux dérivées. De plus, il faut résoudre pour $\\theta_1(t)$, $\\theta_2(t)$, $\\theta_1'(t)$ et $\\theta_2'(t)$ puisque ces variables sont toutes interdépendantes."
      ],
      "metadata": {
        "id": "z68_TMie-hjN"
      }
    },
    {
      "cell_type": "code",
      "execution_count": 8,
      "metadata": {
        "id": "TEZSa5HaxoyA"
      },
      "outputs": [],
      "source": [
        "def solveDoublePendulum(duration, step, initialConditions, parameters):\n",
        "    \n",
        "    theta_1_0, theta_2_0, dtheta_1_0, dtheta_2_0 = initialConditions\n",
        "    \n",
        "    N = int(duration / step)\n",
        "    t = np.linspace(0, duration, N+1)\n",
        "    \n",
        "    theta_1, theta_2 = [theta_1_0], [theta_2_0]\n",
        "    dtheta_1, dtheta_2 = [dtheta_1_0], [dtheta_2_0]\n",
        "    \n",
        "    for i in range(N):\n",
        "        dtheta_1.append(dtheta_1[-1] + step * d2theta_1(theta_1[-1], theta_2[-1], dtheta_1[-1], dtheta_2[-1], parameters))\n",
        "        dtheta_2.append(dtheta_2[-1] + step * d2theta_2(theta_1[-1], theta_2[-1], dtheta_1[-1], dtheta_2[-1], parameters))\n",
        "        theta_1.append(theta_1[-1] + step * dtheta_1[-1])\n",
        "        theta_2.append(theta_2[-1] + step * dtheta_2[-1])\n",
        "\n",
        "    return t, theta_1, theta_2    "
      ]
    },
    {
      "cell_type": "markdown",
      "source": [
        "Vous pouvez valider que le code fonctionne bien ci-dessous, par exemple en affichant un graphique de $\\theta_1(t)$ et $\\theta_2(t)$. Des conditions initiales sont données en exemple, mais libre à vous d'explorer et d'essayer des paramètres/conditions initiales différentes."
      ],
      "metadata": {
        "id": "kaK-n763_Wr1"
      }
    },
    {
      "cell_type": "code",
      "execution_count": null,
      "metadata": {
        "id": "Di2vSU9OxoyB"
      },
      "outputs": [],
      "source": [
        "g = 1 # accélération gravitationnelle (m/s^2)\n",
        "L_1 = 1 # longueur de la première corde (m)\n",
        "L_2 = 1 # longueur de la seconde corde (m)\n",
        "m_1 = 1 # masse du premier pendule (kg)\n",
        "m_2 = 2 # masse du second pendule (kg)\n",
        "parameterss = [g, L_1, L_2, m_1, m_2]\n",
        "\n",
        "theta_1_0 = 2\n",
        "theta_2_0 = 1.5\n",
        "dtheta_1_0 = 0\n",
        "dtheta_2_0 = 0\n",
        "initialConditions = [theta_1_0, theta_2_0, dtheta_1_0, dtheta_2_0]\n",
        "\n",
        "t, theta_1, theta_2 = solveDoublePendulum(100, 0.01, initialConditions, params)"
      ]
    },
    {
      "cell_type": "code",
      "execution_count": null,
      "metadata": {
        "id": "NwrAjxjRxoyD"
      },
      "outputs": [],
      "source": [
        "plt.figure(figsize=(15, 7))\n",
        "plt.plot(t, theta_1, linewidth=3, color='black')\n",
        "plt.plot(t, theta_2, linewidth=3)"
      ]
    },
    {
      "cell_type": "markdown",
      "source": [
        "Les courbes ci-dessus sont intéressantes mais plus difficiles à interpréter que les courbes des variables cartésiennes $(x_1(t), y_1(t))$, $(x_2(t), y_2(t))$. La fonction ci-dessous effectue la conversion des variables polaires aux variables cartésiennes."
      ],
      "metadata": {
        "id": "yRsiYusp_j-d"
      }
    },
    {
      "cell_type": "code",
      "execution_count": null,
      "metadata": {
        "id": "d9p1lFH6xoyD"
      },
      "outputs": [],
      "source": [
        "def getCartesianCoordinates(theta_1_list, theta_2_list, L_1, L_2):\n",
        "    x_1, y_1, x_2, y_2 = [], [], [], []\n",
        "    for i, theta_1 in enumerate(theta_1_list):\n",
        "        theta_2 = theta_2_list[i]\n",
        "        x_1.append(-L_1 * np.sin(theta_1))\n",
        "        y_1.append(-L_1 * np.cos(theta_1))\n",
        "        x_2.append(-L_2 * np.sin(theta_2) + x_1[-1])\n",
        "        y_2.append(-L_2 * np.cos(theta_2) + y_1[-1])\n",
        "    return x_1, y_1, x_2, y_2"
      ]
    },
    {
      "cell_type": "code",
      "execution_count": null,
      "metadata": {
        "id": "otemihqxxoyE"
      },
      "outputs": [],
      "source": [
        "x_1, y_1, x_2, y_2 = getCartesianCoordinates(theta_1, theta_2, L_1, L_2)"
      ]
    },
    {
      "cell_type": "markdown",
      "source": [
        "Vous pouvez maintenant afficher la trajectoire de l'extrémité du second pendule, qui risque d'être très chaotique et agréable à regarder."
      ],
      "metadata": {
        "id": "_Qnq1TC5_9vL"
      }
    },
    {
      "cell_type": "code",
      "execution_count": null,
      "metadata": {
        "id": "WrahMNfTxoyE"
      },
      "outputs": [],
      "source": [
        "plt.figure(figsize=(8, 8))\n",
        "plt.plot(x_2, y_2, linewidth=3, color='black')\n",
        "plt.axis('off')"
      ]
    },
    {
      "cell_type": "markdown",
      "source": [
        "Dans le fichier `animatePendulum.py`, une animation `Matplotlib` vous permet de visualiser ce mouvement chaotique. Il est très intéressant de faire varier les paramètres de façon dramatique, ou même d'introduire des erreurs dans les fonctions `d2theta_1` et `d2theta_2` afin de \"briser les lois de la physique\"."
      ],
      "metadata": {
        "id": "Eu99Il6mAPzV"
      }
    },
    {
      "cell_type": "markdown",
      "source": [
        "# Système #4: Réseau de neurones chaotiques."
      ],
      "metadata": {
        "id": "BHQ_N48sAkUZ"
      }
    },
    {
      "cell_type": "markdown",
      "source": [
        "Codez un réseau de neurones chaotique."
      ],
      "metadata": {
        "id": "HT7UFbJNAowj"
      }
    },
    {
      "cell_type": "markdown",
      "source": [
        "Voici l'équation:\n",
        "\n",
        "$$\\tau\\frac{dx_i}{dt} = -x_i +g\\sum_{j=1}^N A_{ij} \\tanh(x_j)$$"
      ],
      "metadata": {
        "id": "j5NURkkrDHeH"
      }
    },
    {
      "cell_type": "markdown",
      "source": [
        "Cette fonction peut être représentée sous forme vectorielle/matricielle"
      ],
      "metadata": {
        "id": "Y3s7H_VUDeG0"
      }
    },
    {
      "cell_type": "markdown",
      "source": [
        "$$\\tau \\bf{x}'=-\\bf{x} + gA\\tanh(\\bf{x})$$"
      ],
      "metadata": {
        "id": "S0K3DXpQDmSj"
      }
    },
    {
      "cell_type": "markdown",
      "source": [
        "Sous cette forme, c'est seulement une ligne de code pour calculer simultanément tous les $x_i(t)$. Le code ci-dessous génère automatiquement une matrice $A$."
      ],
      "metadata": {
        "id": "L6C72s1fD1LE"
      }
    },
    {
      "cell_type": "code",
      "source": [
        "import networkx as nx"
      ],
      "metadata": {
        "id": "DqH0x5f_ELPC"
      },
      "execution_count": null,
      "outputs": []
    },
    {
      "cell_type": "code",
      "source": [
        "def randomNetwork(N, rho):\n",
        "    G = nx.erdos_renyi_graph(N, rho)\n",
        "    weightedMatrix = nx.to_numpy_array(G)\n",
        "    IDs = np.where(weightedMatrix == 1)\n",
        "    for i in range(len(IDs[0])):\n",
        "        weightedMatrix[IDs[0][i], IDs[1][i]] = np.random.normal(0, (1 / ((N * rho) ** (1/3))))\n",
        "    return weightedMatrix"
      ],
      "metadata": {
        "id": "-zafAsV4DmAu"
      },
      "execution_count": null,
      "outputs": []
    }
  ],
  "metadata": {
    "kernelspec": {
      "display_name": "Python 3",
      "language": "python",
      "name": "python3"
    },
    "language_info": {
      "codemirror_mode": {
        "name": "ipython",
        "version": 3
      },
      "file_extension": ".py",
      "mimetype": "text/x-python",
      "name": "python",
      "nbconvert_exporter": "python",
      "pygments_lexer": "ipython3",
      "version": "3.7.3"
    },
    "colab": {
      "name": "progFest_EDOs.ipynb",
      "provenance": []
    }
  },
  "nbformat": 4,
  "nbformat_minor": 0
}